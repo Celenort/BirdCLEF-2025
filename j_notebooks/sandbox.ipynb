{
 "cells": [
  {
   "cell_type": "code",
   "execution_count": 1,
   "metadata": {},
   "outputs": [],
   "source": [
    "import os\n",
    "import cv2\n",
    "import math\n",
    "import time\n",
    "import librosa\n",
    "import pandas as pd\n",
    "import numpy as np\n",
    "from tqdm.notebook import tqdm\n",
    "\n",
    "import torch\n",
    "import warnings\n",
    "warnings.filterwarnings(\"ignore\")"
   ]
  },
  {
   "cell_type": "code",
   "execution_count": 2,
   "metadata": {},
   "outputs": [],
   "source": [
    "class Config:\n",
    " \n",
    "    DEBUG_MODE = True\n",
    "    \n",
    "    OUTPUT_DIR = './working/'\n",
    "    DATA_ROOT = './Data'\n",
    "    FS = 32000\n",
    "    \n",
    "    # Mel spectrogram parameters\n",
    "    N_FFT = 1024\n",
    "    HOP_LENGTH = 512\n",
    "    N_MELS = 128\n",
    "    FMIN = 50\n",
    "    FMAX = 14000\n",
    "    \n",
    "    TARGET_DURATION = 5.0\n",
    "    TARGET_SHAPE = (256, 256)  \n",
    "    \n",
    "    N_MAX = 50 if DEBUG_MODE else None  \n",
    "\n",
    "config = Config()"
   ]
  },
  {
   "cell_type": "code",
   "execution_count": 3,
   "metadata": {},
   "outputs": [
    {
     "name": "stdout",
     "output_type": "stream",
     "text": [
      "Debug mode: ON\n",
      "Max samples to process: 50\n",
      "Loading taxonomy data...\n",
      "Loading training metadata...\n"
     ]
    }
   ],
   "source": [
    "print(f\"Debug mode: {'ON' if config.DEBUG_MODE else 'OFF'}\")\n",
    "print(f\"Max samples to process: {config.N_MAX if config.N_MAX is not None else 'ALL'}\")\n",
    "\n",
    "print(\"Loading taxonomy data...\")\n",
    "taxonomy_df = pd.read_csv(f'{config.DATA_ROOT}/taxonomy.csv')\n",
    "species_class_map = dict(zip(taxonomy_df['primary_label'], taxonomy_df['class_name']))\n",
    "\n",
    "print(\"Loading training metadata...\")\n",
    "train_df = pd.read_csv(f'{config.DATA_ROOT}/train.csv')"
   ]
  },
  {
   "cell_type": "code",
   "execution_count": 12,
   "metadata": {},
   "outputs": [
    {
     "data": {
      "image/png": "[encoded data removed]",
      "text/plain": [
       "<Figure size 432x288 with 1 Axes>"
      ]
     },
     "metadata": {
      "needs_background": "light"
     },
     "output_type": "display_data"
    },
    {
     "name": "stdout",
     "output_type": "stream",
     "text": [
      "mean: 138.6601941747573\n",
      "max: 990\n",
      "min: 2\n",
      "std: 169.17758332725384\n",
      "median: 80.5\n",
      "quantile_25: 19.0\n",
      "quantile_50: 80.5\n",
      "quantile_75: 182.75\n",
      "sum: 28564\n"
     ]
    }
   ],
   "source": [
    "import matplotlib.pyplot as plt\n",
    "value_counts = train_df['primary_label'].value_counts()\n",
    "\n",
    "# 막대그래프 그리기\n",
    "ax = value_counts.plot(kind='bar')\n",
    "plt.xlabel('Species')\n",
    "plt.ylabel('Count')\n",
    "plt.title('Frequency of Each Species')\n",
    "ax.set_xticks([])  # 또는 plt.xticks([])\n",
    "plt.show()\n",
    "stats = {\n",
    "    'mean': value_counts.mean(),\n",
    "    'max': value_counts.max(),\n",
    "    'min': value_counts.min(),\n",
    "    'std': value_counts.std(),\n",
    "    #'var': value_counts.var(),\n",
    "    'median': value_counts.median(),\n",
    "    'quantile_25': value_counts.quantile(0.25),\n",
    "    'quantile_50': value_counts.quantile(0.5),\n",
    "    'quantile_75': value_counts.quantile(0.75),\n",
    "    #'count': value_counts.count(),\n",
    "    'sum': value_counts.sum()\n",
    "}\n",
    "\n",
    "# 결과 출력\n",
    "for k, v in stats.items():\n",
    "    print(f'{k}: {v}')"
   ]
  },
  {
   "cell_type": "code",
   "execution_count": 11,
   "metadata": {},
   "outputs": [
    {
     "data": {
      "image/png": "[encoded data removed]",
      "text/plain": [
       "<Figure size 432x288 with 1 Axes>"
      ]
     },
     "metadata": {
      "needs_background": "light"
     },
     "output_type": "display_data"
    }
   ],
   "source": [
    "ax = value_counts[value_counts<=19].plot(kind='bar')\n",
    "plt.xlabel('Species')\n",
    "plt.ylabel('Count')\n",
    "plt.title('Frequency of Each Species')\n",
    "ax.set_xticks([])  # 또는 plt.xticks([])\n",
    "plt.show()"
   ]
  },
  {
   "cell_type": "code",
   "execution_count": 13,
   "metadata": {},
   "outputs": [
    {
     "data": {
      "text/plain": [
       "42007      19\n",
       "piwtyr1    19\n",
       "rutpuf1    17\n",
       "715170     17\n",
       "65349      16\n",
       "65344      16\n",
       "41970      15\n",
       "shghum1    15\n",
       "norscr1    14\n",
       "sahpar1    14\n",
       "67252      14\n",
       "24322      13\n",
       "turvul     11\n",
       "135045     10\n",
       "65547       7\n",
       "787625      7\n",
       "1462737     7\n",
       "plctan1     6\n",
       "555142      6\n",
       "126247      6\n",
       "65336       6\n",
       "1564122     6\n",
       "24272       6\n",
       "548639      5\n",
       "46010       5\n",
       "1346504     5\n",
       "963335      5\n",
       "476538      5\n",
       "714022      5\n",
       "66893       5\n",
       "134933      4\n",
       "1192948     4\n",
       "868458      4\n",
       "523060      4\n",
       "24292       3\n",
       "65419       3\n",
       "1194042     3\n",
       "1462711     3\n",
       "81930       2\n",
       "67082       2\n",
       "66578       2\n",
       "66531       2\n",
       "66016       2\n",
       "21038       2\n",
       "41778       2\n",
       "21116       2\n",
       "64862       2\n",
       "528041      2\n",
       "476537      2\n",
       "47067       2\n",
       "42113       2\n",
       "42087       2\n",
       "1139490     2\n",
       "Name: primary_label, dtype: int64"
      ]
     },
     "execution_count": 13,
     "metadata": {},
     "output_type": "execute_result"
    }
   ],
   "source": [
    "value_counts[value_counts<=19]"
   ]
  }
 ],
 "metadata": {
  "kernelspec": {
   "display_name": "Python 3",
   "language": "python",
   "name": "python3"
  },
  "language_info": {
   "codemirror_mode": {
    "name": "ipython",
    "version": 3
   },
   "file_extension": ".py",
   "mimetype": "text/x-python",
   "name": "python",
   "nbconvert_exporter": "python",
   "pygments_lexer": "ipython3",
   "version": "3.9.7"
  }
 },
 "nbformat": 4,
 "nbformat_minor": 2
}
